{
  "nbformat": 4,
  "nbformat_minor": 0,
  "metadata": {
    "colab": {
      "provenance": [],
      "gpuType": "A100"
    },
    "kernelspec": {
      "name": "python3",
      "display_name": "Python 3"
    },
    "language_info": {
      "name": "python"
    },
    "accelerator": "GPU"
  },
  "cells": [
    {
      "cell_type": "code",
      "source": [
        "import pandas as pd\n",
        "import json\n",
        "import hashlib\n",
        "\n",
        "# Load dataset\n",
        "url = \"https://raw.githubusercontent.com/mwaskom/seaborn-data/master/tips.csv\"\n",
        "df = pd.read_csv(url)\n",
        "\n",
        "# Basic preview\n",
        "df.head(), df.info()\n"
      ],
      "metadata": {
        "colab": {
          "base_uri": "https://localhost:8080/"
        },
        "id": "0G81_afH9ruA",
        "outputId": "ab276dee-4d1f-4f1c-c4db-e7fe0bfe9c4f"
      },
      "execution_count": 2,
      "outputs": [
        {
          "output_type": "stream",
          "name": "stdout",
          "text": [
            "<class 'pandas.core.frame.DataFrame'>\n",
            "RangeIndex: 244 entries, 0 to 243\n",
            "Data columns (total 7 columns):\n",
            " #   Column      Non-Null Count  Dtype  \n",
            "---  ------      --------------  -----  \n",
            " 0   total_bill  244 non-null    float64\n",
            " 1   tip         244 non-null    float64\n",
            " 2   sex         244 non-null    object \n",
            " 3   smoker      244 non-null    object \n",
            " 4   day         244 non-null    object \n",
            " 5   time        244 non-null    object \n",
            " 6   size        244 non-null    int64  \n",
            "dtypes: float64(2), int64(1), object(4)\n",
            "memory usage: 13.5+ KB\n"
          ]
        },
        {
          "output_type": "execute_result",
          "data": {
            "text/plain": [
              "(   total_bill   tip     sex smoker  day    time  size\n",
              " 0       16.99  1.01  Female     No  Sun  Dinner     2\n",
              " 1       10.34  1.66    Male     No  Sun  Dinner     3\n",
              " 2       21.01  3.50    Male     No  Sun  Dinner     3\n",
              " 3       23.68  3.31    Male     No  Sun  Dinner     2\n",
              " 4       24.59  3.61  Female     No  Sun  Dinner     4,\n",
              " None)"
            ]
          },
          "metadata": {},
          "execution_count": 2
        }
      ]
    },
    {
      "cell_type": "code",
      "source": [
        "# Basic data quality checks\n",
        "\n",
        "# 1) Check for missing values\n",
        "missing_summary = df.isnull().sum()\n",
        "\n",
        "# 2) Validate numeric columns are >= 0\n",
        "numeric_cols = [\"total_bill\", \"tip\", \"size\"]\n",
        "numeric_validity = {col: (df[col] >= 0).all() for col in numeric_cols}\n",
        "\n",
        "# 3) Validate categorical column values\n",
        "valid_sex_values = set([\"Male\", \"Female\"])\n",
        "sex_column_valid = df[\"sex\"].isin(valid_sex_values).all()\n",
        "\n",
        "# Print results\n",
        "print(\"Missing Values per Column:\")\n",
        "print(missing_summary, \"\\n\")\n",
        "\n",
        "print(\"Numeric Columns Validity (>= 0):\")\n",
        "print(numeric_validity, \"\\n\")\n",
        "\n",
        "print(\"Sex Column Valid:\", sex_column_valid)\n"
      ],
      "metadata": {
        "colab": {
          "base_uri": "https://localhost:8080/"
        },
        "id": "tBD_tYrt-L9n",
        "outputId": "b368a8c1-27e1-4b72-f151-c378fddfd69c"
      },
      "execution_count": 4,
      "outputs": [
        {
          "output_type": "stream",
          "name": "stdout",
          "text": [
            "Missing Values per Column:\n",
            "total_bill    0\n",
            "tip           0\n",
            "sex           0\n",
            "smoker        0\n",
            "day           0\n",
            "time          0\n",
            "size          0\n",
            "dtype: int64 \n",
            "\n",
            "Numeric Columns Validity (>= 0):\n",
            "{'total_bill': np.True_, 'tip': np.True_, 'size': np.True_} \n",
            "\n",
            "Sex Column Valid: True\n"
          ]
        }
      ]
    },
    {
      "cell_type": "code",
      "source": [
        "import json, hashlib\n",
        "\n",
        "lineage_record = {\n",
        "    \"source_url\": url,\n",
        "    \"rows\": len(df),\n",
        "    \"columns\": list(df.columns),\n",
        "    \"hash\": hashlib.md5(df.to_json().encode()).hexdigest()\n",
        "}\n",
        "\n",
        "with open(\"lineage_log.json\", \"w\") as f:\n",
        "    json.dump(lineage_record, f, indent=2)\n",
        "print(\"Lineage logged.\")\n"
      ],
      "metadata": {
        "colab": {
          "base_uri": "https://localhost:8080/"
        },
        "id": "gRUGxdB3_T3c",
        "outputId": "0e5f10e3-6855-4b0f-a458-bade2b14f58b"
      },
      "execution_count": 5,
      "outputs": [
        {
          "output_type": "stream",
          "name": "stdout",
          "text": [
            "Lineage logged.\n"
          ]
        }
      ]
    },
    {
      "cell_type": "code",
      "source": [
        "clean_df = df.dropna().drop_duplicates()\n",
        "clean_df.to_csv(\"clean_tips_data.csv\", index=False)\n",
        "print(\"Clean dataset exported.\")\n"
      ],
      "metadata": {
        "colab": {
          "base_uri": "https://localhost:8080/"
        },
        "id": "NqgY6hTz_g2E",
        "outputId": "fb983f35-d596-4408-b91b-5de0be30dd67"
      },
      "execution_count": 6,
      "outputs": [
        {
          "output_type": "stream",
          "name": "stdout",
          "text": [
            "Clean dataset exported.\n"
          ]
        }
      ]
    },
    {
      "cell_type": "code",
      "source": [],
      "metadata": {
        "id": "-d64jJcz_j8X"
      },
      "execution_count": null,
      "outputs": []
    }
  ]
}